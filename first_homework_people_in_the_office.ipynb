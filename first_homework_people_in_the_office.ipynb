{
  "nbformat": 4,
  "nbformat_minor": 0,
  "metadata": {
    "colab": {
      "provenance": []
    },
    "kernelspec": {
      "name": "python3",
      "display_name": "Python 3"
    },
    "language_info": {
      "name": "python"
    }
  },
  "cells": [
    {
      "cell_type": "markdown",
      "source": [
        "Now that you implemented your first example of probabilistic computations, here is your homework:\n",
        "\n",
        "Write a python function that simulates the number of people present in an office when the n employees work from home 3 days a week and in the office 2 days.\n",
        "In particular, the results should be:\n",
        "\n",
        "### **1. Distribution of # employees in the office on a random day**\n",
        "For each simulated week:\n",
        "\n",
        "Each of nnn employees randomly selects 2 distinct office days (from 5).\n",
        "\n",
        "For each day, count how many employees chose that day.\n",
        "\n",
        "Aggregate across simulations to approximate the distribution.\n",
        "\n",
        "Plot a histogram"
      ],
      "metadata": {
        "id": "pbySK3IpW30L"
      }
    },
    {
      "cell_type": "code",
      "execution_count": null,
      "metadata": {
        "colab": {
          "base_uri": "https://localhost:8080/"
        },
        "id": "PastA363WqgM",
        "outputId": "e9860fd0-cc6e-41df-88d9-2f06d5a5a085"
      },
      "outputs": [
        {
          "output_type": "stream",
          "name": "stdout",
          "text": [
            "[[3 2]\n",
            " [4 1]\n",
            " [4 1]\n",
            " [4 1]\n",
            " [3 4]\n",
            " [1 5]\n",
            " [4 5]\n",
            " [4 3]\n",
            " [1 3]\n",
            " [4 5]]\n"
          ]
        }
      ],
      "source": [
        "#Each of nnn employees randomly selects 2 distinct office days (from 5).\n",
        "#Generate for each employee radnomly 2 days in range Mo-Fr. Days should not be same\n",
        "import numpy as np\n",
        "import matplotlib.pyplot as plt\n",
        "\n",
        "from numpy.random import default_rng\n",
        "rng = default_rng(1)\n",
        "nnn = 10\n",
        "\n",
        "someEmptiness = np.zeros((nnn,2), dtype=int)\n",
        "\n",
        "for i in range(nnn):\n",
        "  someEmptiness[i] = np.random.choice([1,2,3,4,5], replace=False, size=2)\n",
        "\n",
        "print(someEmptiness)\n"
      ]
    },
    {
      "cell_type": "code",
      "source": [
        "#For each day, count how many employees chose that day\n",
        "\n",
        "counts = np.unique(someEmptiness,return_counts=True)\n",
        "for i in range(len(counts[0])):\n",
        "    print(counts[0][i],counts[1][i])"
      ],
      "metadata": {
        "colab": {
          "base_uri": "https://localhost:8080/"
        },
        "id": "t0V3vDk1Zu0I",
        "outputId": "d1a1027b-ab1b-4994-a49f-1904b7266654"
      },
      "execution_count": null,
      "outputs": [
        {
          "output_type": "stream",
          "name": "stdout",
          "text": [
            "1 5\n",
            "2 1\n",
            "3 4\n",
            "4 7\n",
            "5 3\n"
          ]
        }
      ]
    },
    {
      "cell_type": "code",
      "source": [
        "#Aggregate across simulations to approximate the distribution\n",
        "\n",
        "import numpy as np\n",
        "\n",
        "def WeekSimulation(nnn):\n",
        "    someEmptiness = np.zeros((nnn, 2), dtype=int)\n",
        "    for i in range(nnn):\n",
        "        someEmptiness[i] = np.random.choice([1, 2, 3, 4, 5], replace=False, size=2)\n",
        "    # для фиксированного массива частот (для значений 1-5)\n",
        "    counts = np.arange(0,5,1)\n",
        "    unique_values, counts = np.unique(someEmptiness, return_counts=True)\n",
        "    print(\"Current value: \", counts)\n",
        "    return counts\n",
        "\n",
        "# Тест: Создаем пустой массив\n",
        "WeekDaysStats = np.zeros(5, dtype=int)\n",
        "numOfWeeks = 10\n",
        "\n",
        "for i in range(numOfWeeks):\n",
        "    WeekDaysStats += WeekSimulation(10)  # Добавляем в WeekDaysStats статистику новой недели\n",
        "    print(\"Sum after latest iteration: \", WeekDaysStats)\n",
        "\n",
        "print(\"Final sum of chosen days during numOfWeeks:\", WeekDaysStats)"
      ],
      "metadata": {
        "colab": {
          "base_uri": "https://localhost:8080/",
          "height": 305
        },
        "id": "aU248OCtzY6C",
        "outputId": "8cea9dca-ed0c-4ba8-deea-a22a17aa4bde"
      },
      "execution_count": null,
      "outputs": [
        {
          "output_type": "stream",
          "name": "stdout",
          "text": [
            "Current value:  [3 1 3 9 4]\n",
            "Sum after latest iteration:  [3 1 3 9 4]\n",
            "Current value:  [4 3 6 3 4]\n",
            "Sum after latest iteration:  [ 7  4  9 12  8]\n",
            "Current value:  [3 8 5 4]\n"
          ]
        },
        {
          "output_type": "error",
          "ename": "ValueError",
          "evalue": "operands could not be broadcast together with shapes (5,) (4,) (5,) ",
          "traceback": [
            "\u001b[0;31m---------------------------------------------------------------------------\u001b[0m",
            "\u001b[0;31mValueError\u001b[0m                                Traceback (most recent call last)",
            "\u001b[0;32m/tmp/ipython-input-2658441220.py\u001b[0m in \u001b[0;36m<cell line: 0>\u001b[0;34m()\u001b[0m\n\u001b[1;32m     18\u001b[0m \u001b[0;34m\u001b[0m\u001b[0m\n\u001b[1;32m     19\u001b[0m \u001b[0;32mfor\u001b[0m \u001b[0mi\u001b[0m \u001b[0;32min\u001b[0m \u001b[0mrange\u001b[0m\u001b[0;34m(\u001b[0m\u001b[0mnumOfWeeks\u001b[0m\u001b[0;34m)\u001b[0m\u001b[0;34m:\u001b[0m\u001b[0;34m\u001b[0m\u001b[0;34m\u001b[0m\u001b[0m\n\u001b[0;32m---> 20\u001b[0;31m     \u001b[0mWeekDaysStats\u001b[0m \u001b[0;34m+=\u001b[0m \u001b[0mWeekSimulation\u001b[0m\u001b[0;34m(\u001b[0m\u001b[0;36m10\u001b[0m\u001b[0;34m)\u001b[0m  \u001b[0;31m# Добавляем в WeekDaysStats статистику новой недели\u001b[0m\u001b[0;34m\u001b[0m\u001b[0;34m\u001b[0m\u001b[0m\n\u001b[0m\u001b[1;32m     21\u001b[0m     \u001b[0mprint\u001b[0m\u001b[0;34m(\u001b[0m\u001b[0;34m\"Sum after latest iteration: \"\u001b[0m\u001b[0;34m,\u001b[0m \u001b[0mWeekDaysStats\u001b[0m\u001b[0;34m)\u001b[0m\u001b[0;34m\u001b[0m\u001b[0;34m\u001b[0m\u001b[0m\n\u001b[1;32m     22\u001b[0m \u001b[0;34m\u001b[0m\u001b[0m\n",
            "\u001b[0;31mValueError\u001b[0m: operands could not be broadcast together with shapes (5,) (4,) (5,) "
          ]
        }
      ]
    },
    {
      "cell_type": "code",
      "source": [
        "import numpy as np\n",
        "\n",
        "def WeekSimulation(nnn):\n",
        "    someEmptiness = np.zeros((nnn, 2), dtype=int)\n",
        "    for i in range(nnn):\n",
        "        someEmptiness[i] = np.random.choice([1, 2, 3, 4, 5], replace=False, size=2)\n",
        "\n",
        "    # Используем bincount для фиксированного массива частот (для значений 1-5)\n",
        "    flattened = someEmptiness.flatten()\n",
        "    counts = np.bincount(flattened - 1, minlength=5)  # -1, чтобы индексы начинались с 0\n",
        "    return counts\n",
        "\n",
        "# Тест: симулируем недели и накапливаем сумму\n",
        "test = np.zeros(5, dtype=int)\n",
        "\n",
        "for i in range(10):\n",
        "    sim_counts = WeekSimulation(10)\n",
        "    test += sim_counts  # Накапливаем сумму\n",
        "\n",
        "print(\"Final sum of all weeks:\", test)"
      ],
      "metadata": {
        "colab": {
          "base_uri": "https://localhost:8080/"
        },
        "id": "5JoFICcwOSTb",
        "outputId": "aeef0870-67cb-4166-b777-ac303c912cb8"
      },
      "execution_count": 12,
      "outputs": [
        {
          "output_type": "stream",
          "name": "stdout",
          "text": [
            "Final sum of all weeks: [44 47 37 35 37]\n"
          ]
        }
      ]
    },
    {
      "cell_type": "code",
      "source": [
        "import matplotlib.pyplot as plt\n",
        "plt.hist(test)\n",
        "\n",
        "plt.title('Distribution of # employees in the office on a random day')\n",
        "plt.xlabel('Num of employees total in all weeks')\n",
        "plt.ylabel('Weeks')\n",
        "plt.show()"
      ],
      "metadata": {
        "colab": {
          "base_uri": "https://localhost:8080/",
          "height": 472
        },
        "id": "tlq34XzWPdV5",
        "outputId": "c9f380c0-57ee-4ff8-a5dd-dfc9309ddba0"
      },
      "execution_count": 15,
      "outputs": [
        {
          "output_type": "display_data",
          "data": {
            "text/plain": [
              "<Figure size 640x480 with 1 Axes>"
            ],
            "image/png": "[encoded data removed]"
          },
          "metadata": {}
        }
      ]
    },
    {
      "cell_type": "markdown",
      "source": [
        "**#2. Probability that two particular employees overlap ≥ 2 days**\n",
        "\n",
        "For each simulated week:\n",
        "\n",
        "Simulate their two chosen office days.\n",
        "\n",
        "Count the overlap between them.\n",
        "\n",
        "Record whether overlap ≥ 2."
      ],
      "metadata": {
        "id": "zu3ix-59jTTy"
      }
    },
    {
      "cell_type": "code",
      "source": [],
      "metadata": {
        "id": "e4jLYqkljgYo"
      },
      "execution_count": null,
      "outputs": []
    }
  ]
}